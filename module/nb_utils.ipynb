{
 "cells": [
  {
   "cell_type": "code",
   "execution_count": 7,
   "id": "057c721b-e189-46a6-bd18-19a7a2bd8069",
   "metadata": {},
   "outputs": [
    {
     "name": "stdout",
     "output_type": "stream",
     "text": [
      "making /Users/shugo/Desktop/SIGNATE/make_env/root/output/exp000/feature\n",
      "making /Users/shugo/Desktop/SIGNATE/make_env/root/output/exp000/preds\n",
      "making /Users/shugo/Desktop/SIGNATE/make_env/root/output/exp000/trained\n",
      "making /Users/shugo/Desktop/SIGNATE/make_env/root/output/exp000/reports\n"
     ]
    }
   ],
   "source": [
    "import os\n",
    "import joblib\n",
    "\n",
    "import logging\n",
    "\n",
    "\n",
    "\n",
    "ROOT = '/Users/shugo/Desktop/SIGNATE/make_env/root'\n",
    "\n",
    "INPUT = os.path.join(ROOT, 'input')\n",
    "OUTPUT = os.path.join(ROOT, 'output')\n",
    "SUBMISSION = os.path.join(ROOT, 'submission')\n",
    "\n",
    "EXP_NAME = 'exp000' # notebookの名前を自動で取ってきたい\n",
    "EXP = os.path.join(OUTPUT, EXP_NAME)\n",
    "PREDS = os.path.join(EXP, 'preds')\n",
    "TRAINED = os.path.join(EXP, 'trained')\n",
    "FEATURE = os.path.join(EXP, 'feature')\n",
    "REPORTS = os.path.join(EXP, 'reports')\n",
    "\n",
    "dirs = [\n",
    "        OUTPUT,\n",
    "        SUBMISSION,\n",
    "        FEATURE,\n",
    "        EXP,\n",
    "        PREDS,\n",
    "        TRAINED,\n",
    "        REPORTS\n",
    "        ]\n",
    "\n",
    "for v in dirs:\n",
    "    if not os.path.isdir(v):\n",
    "        print(f'making {v}')\n",
    "        os.makedirs(v, exist_ok=True)\n",
    "            \n",
    "\n",
    "class Util:\n",
    "    @classmethod\n",
    "    def dump(cls, value, path):\n",
    "        os.makedirs(os.path.dirname(path), exist_ok=True)\n",
    "        joblib.dump(value, path, compress=True)\n",
    "        \n",
    "    @classmethod\n",
    "    def load(cls, path):\n",
    "        return joblib.load(path)\n",
    "    \n",
    "\n",
    "class Logger:\n",
    "    def __init__(self, path):\n",
    "        self.general_logger = logging.getLogger(path) # loggerを設定\n",
    "        stream_handler = logging.StreamHandler() # コンソールへ出力\n",
    "        file_general_handler = logging.FileHandler(os.path.join(path, 'Experiment.log')) # ファイルへ出力\n",
    "        if len(self.general_logger.handlers) == 0:\n",
    "            self.general_logger.addHandler(stream_handler)\n",
    "            self.general_logger.addHandler(fil_general_handler)\n",
    "            se,f.general_logger.setLevel(logging.INFO)\n",
    "            \n",
    "    def info(self, message):\n",
    "        self.general_logger.info(f'{self.now_string()}-{message}')\n",
    "        \n",
    "    @staticmethod\n",
    "    def now_string():\n",
    "        return str(datetime.datetime.now.strftime('%Y-%m-%d %H:%M:%S'))\n",
    "                                 \n",
    "        \n",
    "    def save(self):\n",
    "        return Logger(REPORTS)"
   ]
  }
 ],
 "metadata": {
  "kernelspec": {
   "display_name": "Python 3",
   "language": "python",
   "name": "python3"
  },
  "language_info": {
   "codemirror_mode": {
    "name": "ipython",
    "version": 3
   },
   "file_extension": ".py",
   "mimetype": "text/x-python",
   "name": "python",
   "nbconvert_exporter": "python",
   "pygments_lexer": "ipython3",
   "version": "3.7.4"
  }
 },
 "nbformat": 4,
 "nbformat_minor": 5
}
