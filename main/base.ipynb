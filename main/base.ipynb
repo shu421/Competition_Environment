{
 "cells": [
  {
   "cell_type": "code",
   "execution_count": 1,
   "id": "b7abd623-8c2a-4427-86ad-6fa33cbc9073",
   "metadata": {},
   "outputs": [],
   "source": [
    "import sys\n",
    "sys.path.append('../') # 実行ディレクトリをrootとする\n",
    "sys.path.append('../module/')\n",
    "from module import models\n",
    "\n",
    "import pandas as pd\n",
    "\n",
    "from sklearn.preprocessing import LabelEncoder\n",
    "from sklearn.model_selection import StratifiedKFold\n",
    "\n",
    "INPUT_PATH = '../input/'\n",
    "OUTPUT_PATH = '../output/'\n",
    "\n",
    "train = pd.read_csv(INPUT_PATH+'train.csv')\n",
    "test = pd.read_csv(INPUT_PATH+'test.csv')\n",
    "\n",
    "SEED=71\n",
    "\n",
    "le = LabelEncoder()\n",
    "\n",
    "\n",
    "train_y = train['genre']\n",
    "train_feat_df = train.drop(['index','genre'], axis=1)\n",
    "test_feat_df = test.drop(['index'], axis=1)\n",
    "\n",
    "train_feat_df['tempo'] = train_feat_df['tempo'].map(lambda x : (int(x.split('-')[0])+int(x.split('-')[1]))/2) \n",
    "train_feat_df['region'] = le.fit_transform(train['region'])\n",
    "\n",
    "test_feat_df['tempo'] = test_feat_df['tempo'].map(lambda x : (int(x.split('-')[0])+int(x.split('-')[1]))/2) \n",
    "test_feat_df['region'] = le.fit_transform(test['region'])"
   ]
  },
  {
   "cell_type": "code",
   "execution_count": 2,
   "id": "224ba5ab-2e54-4485-80d6-f541354ea36a",
   "metadata": {},
   "outputs": [
    {
     "name": "stdout",
     "output_type": "stream",
     "text": [
      "Fold0_F1 : 0.45778703602791443\n",
      "Fold1_F1 : 0.5227403985347452\n",
      "Fold2_F1 : 0.5223628635714088\n",
      "Fold3_F1 : 0.4946327012867288\n",
      "Fold4_F1 : 0.5231688613997995\n",
      "--------------------------------------------------\n",
      "oof score : 0.5057685907858389\n",
      "--------------------------------------------------\n"
     ]
    }
   ],
   "source": [
    "def make_cv(n_split, seed):\n",
    "    fold = StratifiedKFold(n_splits=n_split, shuffle=True, random_state=seed)\n",
    "    return list(fold.split(train, train_y))\n",
    "\n",
    "\n",
    "cv = make_cv(5, SEED)\n",
    "\n",
    "\n",
    "params={'boosting_type': 'gbdt',\n",
    " 'objective': 'multiclass',\n",
    " 'metric': 'multi_logloss',\n",
    " 'num_class': 11,\n",
    " #'feature_pre_filter': False,\n",
    " 'lambda_l1': 1.8260943871703617,\n",
    " 'lambda_l2': 8.704872539528923,\n",
    " 'num_leaves': 17,\n",
    " 'feature_fraction': 0.8999999999999999,\n",
    " 'bagging_fraction': 1.0,\n",
    " 'bagging_freq': 0,\n",
    " 'min_child_samples': 10,\n",
    " 'verbosity':-1,\n",
    " #'learning_rate':0.01\n",
    "  #'force_col_wise':True\n",
    "       }\n",
    "\n",
    "model = models.Lgbm(params)\n",
    "\n",
    "oof_preds_lgb, test_preds_lgb, evals_result_lgb = model.cv(train_y,\n",
    "                                                         train_feat_df,\n",
    "                                                         test_feat_df,\n",
    "                                                         cv,\n",
    "                                                        is_reg=False\n",
    "#                                                           is_rmsle=False\n",
    "                                                          )"
   ]
  },
  {
   "cell_type": "code",
   "execution_count": 3,
   "id": "d0367948-97b9-442b-a9c6-e2328f403523",
   "metadata": {},
   "outputs": [
    {
     "data": {
      "text/plain": [
       "(<Figure size 864x288 with 1 Axes>,\n",
       " <AxesSubplot:xlabel='feature_importance', ylabel='column'>)"
      ]
     },
     "execution_count": 3,
     "metadata": {},
     "output_type": "execute_result"
    },
    {
     "data": {
      "image/png": "[encoded data removed]",
      "text/plain": [
       "<Figure size 864x288 with 1 Axes>"
      ]
     },
     "metadata": {
      "needs_background": "light"
     },
     "output_type": "display_data"
    }
   ],
   "source": [
    "model.visualize_importance()"
   ]
  }
 ],
 "metadata": {
  "kernelspec": {
   "display_name": "Python 3",
   "language": "python",
   "name": "python3"
  },
  "language_info": {
   "codemirror_mode": {
    "name": "ipython",
    "version": 3
   },
   "file_extension": ".py",
   "mimetype": "text/x-python",
   "name": "python",
   "nbconvert_exporter": "python",
   "pygments_lexer": "ipython3",
   "version": "3.7.4"
  }
 },
 "nbformat": 4,
 "nbformat_minor": 5
}
