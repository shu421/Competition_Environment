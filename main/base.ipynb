{
 "cells": [
  {
   "cell_type": "code",
   "execution_count": 1,
   "id": "5e532851-2afb-45d7-83f2-b862a9adef43",
   "metadata": {},
   "outputs": [],
   "source": [
    "import numpy as np\n",
    "\n",
    "from abc import abstractmethod\n",
    "\n",
    "from sklearn.metrics import mean_squared_error\n",
    "from sklearn.metrics import f1_score"
   ]
  },
  {
   "cell_type": "code",
   "execution_count": null,
   "id": "817d2e0d-945f-4e77-9c09-feb226454335",
   "metadata": {},
   "outputs": [],
   "source": [
    "class Base_Model(object):\n",
    "    @abstractmethod\n",
    "    def fit(self, train_x, train_y, valid_x, valid_y):\n",
    "        raise NotImplementedError\n",
    "        \n",
    "    @abstractmethod\n",
    "    def predict(self, model, features):\n",
    "        raise NotImplementedError\n",
    "    \n",
    "    def cv(self, train_y, train_features, test_features, fold_ids, is_reg=True): # is_reg=True:回帰, False:分類\n",
    "        test_preds = np.zeros(len(test_features))\n",
    "        oof_preds = np.zeros(len(traon_features))\n",
    "        if(is_reg==False):\n",
    "            test_preds = pd.DataFrame()\n",
    "            \n",
    "        for i_fold, (trn_idx, val_idx) in enumerate(fold_ids):\n",
    "            \n",
    "            trn_x = train_features.iloc[trn_idx]\n",
    "            val_x = train_features.iloc[val_idx]\n",
    "            trn_y = train_y.iloc[trn_idx]\n",
    "            val_y = train_y.iloc[val_y]\n",
    "            \n",
    "            model = self.fit(trn_x, trn_y, val_x, val_y)\n",
    "        \n",
    "            oof_preds[val_idx] = self.predict(model, val_x)\n",
    "            \n",
    "            # 回帰\n",
    "            if(is_reg):\n",
    "                oof_score = np.sqrt(mean_squared_error(val_y, oof_preds[val_idx]))\n",
    "                print(f'Fold{i_fold}_RMSE : {oof_score}')\n",
    "                test_preds += self.predict(model, test_features)/len(fold_ids)\n",
    "            # 分類\n",
    "            else:\n",
    "                oof_score = f1_score(val_y, np.round(oof_preds[val_idx]), average='macro') # 予測確率をroundで四捨五入\n",
    "                print(f'Fold{i_fold}_F1 : {oof_score}')\n",
    "                test_preds[f'Fold{i_fold}'] = self.predict(model, test_features)\n",
    "                \n",
    "        if(is_reg):\n",
    "            oof_score = np.sqrt(mean_squared_error(train_y, oof_preds))\n",
    "            print('-'*50)\n",
    "            print(f'oof score : {oof_score}')\n",
    "            print('-'*50)\n",
    "        else:\n",
    "            oof_score = f1_score(train_y, np.round(oof_preds), average='macro')\n",
    "            print('-'*50)\n",
    "            print(f'oof score : {oof_score}')\n",
    "            print('-'*50)\n",
    "            test_preds = test_preds.T.mode().loc[0] # mode:最頻値\n",
    "        \n",
    "        evals_results = {'evals_result':{\n",
    "            'oof_score':oof_score,\n",
    "            'n_data':len(train_features),\n",
    "            'n_features':len(train_features.columns),\n",
    "        }}\n",
    "        \n",
    "        return oof_preds, test_preds, evals_results"
   ]
  }
 ],
 "metadata": {
  "kernelspec": {
   "display_name": "Python 3",
   "language": "python",
   "name": "python3"
  },
  "language_info": {
   "codemirror_mode": {
    "name": "ipython",
    "version": 3
   },
   "file_extension": ".py",
   "mimetype": "text/x-python",
   "name": "python",
   "nbconvert_exporter": "python",
   "pygments_lexer": "ipython3",
   "version": "3.7.4"
  }
 },
 "nbformat": 4,
 "nbformat_minor": 5
}
